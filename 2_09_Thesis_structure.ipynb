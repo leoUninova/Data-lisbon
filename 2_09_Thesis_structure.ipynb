{
  "nbformat": 4,
  "nbformat_minor": 0,
  "metadata": {
    "colab": {
      "name": "2/09-Thesis-structure.ipynb",
      "version": "0.3.2",
      "provenance": [],
      "collapsed_sections": [
        "P1blL3BoXvVt",
        "tMGo2YtduSHk",
        "8LpVo4E8uash"
      ],
      "include_colab_link": true
    },
    "kernelspec": {
      "name": "python3",
      "display_name": "Python 3"
    }
  },
  "cells": [
    {
      "cell_type": "markdown",
      "metadata": {
        "id": "view-in-github",
        "colab_type": "text"
      },
      "source": [
        "<a href=\"https://colab.research.google.com/github/leoUninova/Data-lisbon/blob/master/2_09_Thesis_structure.ipynb\" target=\"_parent\"><img src=\"https://colab.research.google.com/assets/colab-badge.svg\" alt=\"Open In Colab\"/></a>"
      ]
    },
    {
      "cell_type": "markdown",
      "metadata": {
        "id": "Sg_tfh8jWDd4",
        "colab_type": "text"
      },
      "source": [
        "##Abstract "
      ]
    },
    {
      "cell_type": "markdown",
      "metadata": {
        "id": "OOEfSxXBVC1y",
        "colab_type": "text"
      },
      "source": [
        "#Introduction"
      ]
    },
    {
      "cell_type": "markdown",
      "metadata": {
        "id": "3h2h4FQrvrh9",
        "colab_type": "text"
      },
      "source": [
        "#good references: \n",
        "\n",
        "1. 2018 amorphous oxide semiconducts: https://aip.scitation.org/doi/full/10.1063/1.5053762# \n",
        "2. 2014 evaluating tft coplanar thing https://pdfs.semanticscholar.org/3f1b/91054c7ece08b06f5db539772e41a19f76ae.pdf\n",
        "\n",
        "3. Gate induced drain leakegae https://www.sciencedirect.com/topics/engineering/gate-induced-drain-leakage"
      ]
    },
    {
      "cell_type": "markdown",
      "metadata": {
        "id": "P1blL3BoXvVt",
        "colab_type": "text"
      },
      "source": [
        "##Thin film transistors"
      ]
    },
    {
      "cell_type": "markdown",
      "metadata": {
        "id": "WGczfW5KNtX1",
        "colab_type": "text"
      },
      "source": [
        ""
      ]
    },
    {
      "cell_type": "markdown",
      "metadata": {
        "id": "tMGo2YtduSHk",
        "colab_type": "text"
      },
      "source": [
        "### A brief History of TFTs "
      ]
    },
    {
      "cell_type": "markdown",
      "metadata": {
        "id": "ttf1jtREX3F0",
        "colab_type": "text"
      },
      "source": [
        "\n",
        "#### background- first contrustcted \n",
        "\n",
        "The TFT is a  field effect Transistor (FET). \n",
        "\n",
        "The first FET was invented in 1925 (Patented in 1930 by J.E. Lilienfeld and O.Heil).At the time, production techniques weren't adequate for fabrication, so the patents remained concept patents. \n",
        "\n",
        "It was not unitl 1962 that the first working TFT was fabricated (by: Weimer at: RCA Laboratories). Weimer deposited the electrode (Au), an n-type policrystalline semiconductor (CdS) and an insulator (SiO). He used shadow masks to pattern each layer. \n",
        "\n",
        "The first transisors didn't work well. Then Weimer placed an insulating layer between the semicondutor and the gate, and got what he called \"beautiful characteristics\". \n",
        "\n",
        "He published his results in 1962 ('The TFT a new thin-film transistor'), drawing worldwide attention. \n",
        "\n",
        "#### Mosfet competition. \n",
        "\n",
        "The TFT had a high mobility (u> 40cm^2). However, it was hard to control the properties of the compound semiconductor thin film material, and overall decive realiabiity. The 1960s also saw the emergence of Metal Oxide Semiconductor Field Effect Transistor (MOSFET) based on christalline technology. TFTs realiabitly issues meant that MOSFET were prefered in large-area applications. \n",
        "\n",
        "#### Interest in TFTs returns (check Si3N4)\n",
        "\n",
        "In the 1970s there was renewed interest in TFTs becuase of their lower fabrication cost (compared to MOSFET). This was useful for larage array low cost electronics (such as LCDs). \n",
        "\n",
        "In 1979 a report showed the fabrication of a TFT of hydrogenated amorphous silicon (a-Si:H) with silicon nitride (Si3N4) gate dielectric, using plasma-enhanced chemical vapor deposition.\n",
        "\n",
        "\n",
        "The device was stable at room temperature (RT) in atmospheric conditions. The a-Si:H TFT presented good enough characteristics for LCD displays. The a-Si:H TFT had low mobility  (µeﬀ > 1 cm2/Vs )  and was a photoconductor (has high leakeage when exposed to light). It also had a good on/off ratio (10^6) and was stable at room temperature in atmospheric conditions. Since the fabrication process was inexpensive, a-Si:H TFT presented good enough characteristics for LCD display. The low mobility limits its use in high-speed low voltage devices, such as **O**rganic LED  (OLED).\n",
        "\n",
        "\n",
        "#### Organic semiconductos (insert why low processing temperature is good)\n",
        "\n",
        "in the 1990s' organic materials started being used as semiconductors in TFTs. The devices showed similar charactersitcs of  a-Si:H, with the advantage of having low processing temperature. \n",
        "\n",
        "\n",
        "#### Oxide semiconducots\n",
        "First attempts to build oxide semicontor TFT was in the 1960s. However, good performace0 (able to make oxide TFT a viable technology) were not obtained unitl 2001-2003 with reports on Zinc Oxide (ZnO) TFTs. \n",
        "\n",
        "##### GIZO\n",
        "In 2003, Nomura et al used a complex single-crystalline semicondutcotr (InGaO3(ZnO)5 or IGZO) in a TFT. This IGZO-TFT showed: high mobility (80 cm2/Vs), turn-on Voltage ( -0.5 V ) and good on/oﬀ (10^6). Although the device was produced using high temperatures (1400°C), it proved that high-performace oxide semiconductor TFTs are possible. \n",
        "\n",
        "\n",
        "\n",
        "#### Present day \n",
        "\n",
        "After Nomura's work, many papers have been published regarding TFTs, focusing on reducing fabrication temperature, increasing perfomance as well as branching into other applicatoion. Today the focus is on loweirng production cost and achieveing low temperatures for flexible electronics. \n",
        "\n",
        "\n",
        "\n"
      ]
    },
    {
      "cell_type": "markdown",
      "metadata": {
        "id": "8LpVo4E8uash",
        "colab_type": "text"
      },
      "source": [
        "### Amorphous oxide semiconductors (AOS)"
      ]
    },
    {
      "cell_type": "markdown",
      "metadata": {
        "id": "e6JgadkVuorZ",
        "colab_type": "text"
      },
      "source": [
        "#### intro-where can they be used \n",
        "The first amourphous oxide semiconducor TFT (AOS-TFT) was procuded in 2004. (reference from 1-1). Their high mobility, low-temperature process- good uniformity and high transparaceny have attracted a lot of attention. The relaitve low fabrication cost has made possible their application in solar cells and are now employed as backpanels to drive pixels in state-of-the-art flat-panel displays (FPDs) (reference 1). \n",
        "\n",
        "#### AOS advantage over polycristalline sylicon \n",
        "\n",
        "Polycristalline and AOS semicondurtors can be formed at low Temperatures over large areas (T:  400 °C- Area: 1m^2). However polycristalline material has grain boundries that are responsible for carrier scatering and trapping. This leads to a non-uniform TFT perfomace across the susbtrate. AOS instead display uniform properties across large areas. \n",
        "\n",
        "Table (x) shows the advantages of AOS TFTs \n",
        "(low processing temperatuere, wide processing temperature window, Large electron mobolities, Low operation voltage, Large allowance in choice of gate insulator, simple eelctrode structuer and low off current , excellent uniformity and surface flatness, ease of fabrication )\n",
        "\n",
        "#### transport between a-Si:H and AOS \n",
        "\n",
        "a-Si:H presented a mobility (µeﬀ < 2 cm2/Vs), leading to the belief that properties of amourphous semiconductors are degraded (c-S = 1500 cm2/Vs  ). But AOS was found to display large mobility. This can be explained by looking at the chemical bonding of these ionic compounds. (referecnce). \n",
        "\n",
        "\n",
        "\n",
        "In silicon the conduction band minimum (CBM) and the valence band maximum (VMB)   are made of anti-bonding (sp3 σ∗) and bonding (sp3 σ) states of Si sp3 hybridized orbitals. The bang gap is formed by the energy splitting of the σ∗-σ levels.\n",
        "\n",
        "\n",
        "AOS have strong ionicity allowing charge transfer to occruf from metal to oxigen atoms. The madelung potential formed by the ions stabilizes the electrion structure, raising the electorn levels in cations and lowering the levels in anions. This causes the outer s-states of the metal ion to be empty, (mostly) forming conduction band minimum (CMB). The outer p-states of the oxigen ion are filled, (mostly) forming the valence band maximum (VBM).  \n",
        "\n",
        "The separtion  between the 2 bands reults in >= 3eV. This wide gap should assure optically high tranparency. Full transparency is not obtained due to high-density-defect states (10^19-10^20 cm^-3) near the VBM. The sensitivity to wavelengths around 2.3 eV is attributed to excitation of electrons from these sub-gap defect states. (reference 1). \n",
        "\n",
        "\n",
        "\n",
        "\n",
        "\n",
        "\n",
        "\n",
        "\n",
        "\n",
        "\n",
        "\n"
      ]
    },
    {
      "cell_type": "markdown",
      "metadata": {
        "id": "h5biEF2MAc2k",
        "colab_type": "text"
      },
      "source": [
        "### Device structure and operation "
      ]
    },
    {
      "cell_type": "markdown",
      "metadata": {
        "id": "vmTwaC73Ai9E",
        "colab_type": "text"
      },
      "source": [
        "#### intro \n",
        "\n",
        "TFTs are three terminal ﬁeld-eﬀect devices. Their working principle relies on the modulation of the current ﬂowing in a semiconductor layer (channel) placed between two electrodes (source and drain). The current flows from source to drain. A dielectric layer is inserted between the semiconductor and a transversal electrode (gate).\n",
        "The Gate-dielectric-semiconductor structure forms a parallel plate capacitor. The current is modulated by the capacitive injection of carriers close to the dielectric/semiconductor interface, where they accumulate. (ref 5 on Allegras) This process is called field effect.\n",
        "\n",
        "#### enhancment vs depletion\n",
        "In enhancment mode, when VG=0 the channel conductance is low. With incrase VG, the channel conductace icreases. By applying a voltage between S-D, current flows. \n",
        "In depletion mode the opposide is true: VG=0 and VD>0, current flows. While for high enough VG, the channel conductance is low. \n",
        "\n",
        "\n",
        "\n",
        "\n",
        "\n",
        "\n",
        "#### types of strucuure\n",
        "\n",
        "There are 4 main structures of TFTs: staggered bottom-gate, staggered top-gate, Coplanar bottom-gate, Coplanar top-gate. (make a table with these in it)\n",
        "\n",
        "In a coplanar configuration, the source drain contacts and the insulator layer are on the same part of the channel. In a staggered configuration, the source drain contacts and the insulator layer are on the opposite part of the channel.  (referece 2 )  The structure can be further categorized as bottom gate and topgate structures (wherether the gate is on the top or bottom of the structure). \n",
        "\n",
        "Different sturctures have differnt advantages as well as different fabrication steps. Complanar-top-gate is made by first depositing the semiconductor layer, while in Staggered-top-gate the S-D electrodes are deposited first. \n",
        "\n",
        "(put table in with different methods maybe)\n",
        "(put picture from page 2 reference 2 )\n",
        "\n",
        "Staggered is mostly used in a-Si while coplar is common with polycristalline. In Bottom gate structure, the semiconductor is exposed to the enviroment. This can lead to undersireable effects. Often a passivation layer is used to insulate the semiconducotr from the enviroment.  \n",
        "\n",
        "\n",
        "\n",
        "\n",
        "#### tft vs mosfet \n",
        "\n",
        "TFT differs from MOSFET in certain ways.\n",
        "\n",
        "* TFTs work in accumulation regime. MOSFETs work under inversion regime. reference (2)\n",
        "\n",
        "* In MOSFETs the silicon substrate acts as the semiconductor. In TFTs' the substrate is an insulator (glass). \n",
        "\n",
        "* MOSFETs are fabricated at higher temperateurs (1000◦C ) than TFTs. This is due to the melting point of the substrate (Glass vs silicon). \n",
        "\n",
        "* MOSFETs have a p-n junction, TFTs don't. \n",
        "\n",
        "\n",
        "#### Ideal TFT \n",
        "\n",
        "An ideal TFT would have the following charactersitics: \n",
        "\n",
        "* VG < 0V causes 0 = IS-D\n",
        "\n",
        "* VG > 0V causes 0 < IS-D\n",
        "\n",
        "\n",
        "* Vth = 0\n",
        "\n",
        "Then you can describe the TFT as a switch where the \"on\" state is VG>0 and the \"off\" state is for VG<0. \n",
        "\n",
        "\n",
        "When the TFT is  \"on\" we can distinguish between 2 different regimes based on VD values. \n",
        "\n",
        "* Pre-pinch off (linear) regime VD < (VG-Vth)\n",
        "Here the charges are uniformly distributed throughout the entire channel. The drain current (ID) is given by: \n",
        "\n",
        "ID = CiµFE....\n",
        "\n",
        "Where C_i =capatitance of the dielectirc per unit area, ufe=Field effect mobility, W=Channel width, L=channel length.  For low VD 1/2VD^2 ---appraoch--0 and we can describe the eqution as \n",
        "**.... without the term **\n",
        "\n",
        "\n",
        "\n",
        "* Post-pinch off (saturation) regime VD > (VG-Vth)\n",
        "Here the accumulation layer close to the drain becomes depleted, leading to a saturation of ID. The drain current (ID) is given by: \n",
        "\n",
        "**eq**\n",
        "\n",
        "\n",
        "These approximations are based on teh follwoing assumptions: \n",
        "\n",
        "* Gradual channel approximation (proposed by Schokley)\n",
        "The gradient of the later field << gradient of hte vertical field. \n",
        "This assumtpion **is not** valid for devices in saturation mode with channel length > dielectric thickness (L>d)\n",
        "\n",
        "\n",
        "\n",
        "* Independence of Ufe and Usat from VG. \n",
        "In reality these parameters are a fucntion of the gate voltage.\n",
        "\n",
        "\n",
        "#### non ideal tft\n",
        "\n",
        "TFT diverge from the models for the following reasons: \n",
        "\n",
        "* Trapping \n",
        "\n",
        "Trapping is causes by impurities in the semiconductor material. When V_on is applied, the first charges are trapped. This causes a delay in the actual mobility. In a good material only the first electors eelctors are trapped. (make sure this is right). \n",
        "\n",
        "Trapping near the channel/insulator interface causes clockwise histeresis, corresponding to a positive Von shift. To mitigate the effect of traps on measurement, strees can be applied for a duration of time before measuring. This causes the traps to be filled so they cannot cause any effets.  \n",
        "\n",
        "\n",
        "\n",
        "\n",
        "\n",
        "In reality Vth is a function of:  the gate electrode-semiconductor work fucntion difference,  the background carrier concentration of the semiconducot (N), \n",
        "the charge density residing in the dielectric and the trap density within the semiconductor at the interface. **(expand a bit on this so that it is different form Ilaria's)**.\n",
        "\n",
        "Moving the threshold Voltage either to the left or the right of 0. This isn't ideal becuase: if Vth>0, higher voltages need to be supplied to turn \"on\" the TFT; if Vth<0, then you need to apply a voltage to keep the TFT \"off\". \n",
        "\n",
        "\n",
        "* Gate-indueced drain leakage (GIDL)\n",
        "GILD is a leakage caused by tunneling between overlaps of gate and drain.It contributes to stand by power and excessive heat dissipation. reference 3. \n",
        "\n",
        "\n",
        "* Insulator leakage\n",
        "\n",
        "Insulator leakage occurs when there is a breakdown in the insulating properties of the dielectric. Leakage current decreases exponentially with incrase insulator thickness. Higher laeakge current reduces ID(ON/OFF), incraesing power dissipation. \n",
        "\n",
        "* parasitic resistance \n",
        "\n",
        "The pratical strucutre of a TFT introduced unwanted resitances. The main problem is contact resistance caused by poorly functioning contact to the channel. This causes a reduction in ID. \n",
        "\n",
        "\n",
        "**You can add others from allegra or the web\n",
        "#### Non idealities of TFTs\n",
        "\n",
        "\n",
        "\n",
        "\n",
        "\n",
        "\n",
        "\n",
        "\n",
        "\n",
        "\n",
        "\n",
        "#### mobility (put it after)\n",
        "\n",
        "The mobility of the carriesrs travelling from the channle (sfrom S to D ) are affected by: channle impuritirs, phonon models, stain and defects. All these scattering mechanism are described by the relaxation time ( τ ). \n",
        "\n",
        "\n",
        "µ = q<τ>/ m∗\n",
        "\n",
        "where q=electorn charge, and m* is the electrons effective mass. \n",
        "The mobility is then calculated from the Hall measurement \n",
        "\n",
        "µ = 1 /(qns *Rs)\n",
        "\n",
        "where  n_s is the sheet carrier concentration  and Rs is the sheet resistance of the material. \n",
        "\n",
        "\n"
      ]
    },
    {
      "cell_type": "markdown",
      "metadata": {
        "id": "R30ArikKVrln",
        "colab_type": "text"
      },
      "source": [
        "#Oxide thin film transistors"
      ]
    },
    {
      "cell_type": "markdown",
      "metadata": {
        "id": "FPWQVxeQV0Eh",
        "colab_type": "text"
      },
      "source": [
        "#Thin film transistor fabrication process"
      ]
    },
    {
      "cell_type": "markdown",
      "metadata": {
        "id": "3hg4UTyzZ26X",
        "colab_type": "text"
      },
      "source": [
        "### Introduciton \n",
        "\n",
        "In this chapter i describe the fabrication process used. "
      ]
    },
    {
      "cell_type": "markdown",
      "metadata": {
        "id": "drR-ZtN5fR85",
        "colab_type": "text"
      },
      "source": [
        "### Fabrication Processes\n",
        "\n",
        "\n",
        "### Optical lithography\n",
        "\n",
        "#### Spin coating \n",
        "Spin coating is used to apply photoresist to the samples. The sample is fixed to a round holder using vacuum. A thin film of photoreist (Exxx, Exxx) is applied using a syringe. The chamber is closed and the sample is spun fast (2000 10 sec 4000 10 sec) **ask anna**. This creates a uniform coating of the photoresit. The thickness of the photoresist is dependent on RPM and the intrinsic properties of the photoresist.  \n",
        "\n",
        "\n",
        "#### Prebaking \n",
        "\n",
        "After covering the sample with photoresit, a drying sample is used to improve adhesion and remove solvent from the photoresit. The Baking removes the casting solvent from teh film, creating a solid state that prevents mixig of the exposed area with the unexposed area. This increases the definition of the pattern on the sample. **For my samples the table is reported later**\n",
        "\n",
        "\n",
        "#### Mask alignment \n",
        "\n",
        "The photomask is a square galss plate with a patterned metal film on one side. \n",
        "To pass on the photomask patter to the sample it first needs to be alligned. The photomask has small marks on each corner. The first exposure doesn't need any allignemtn, and creates the allignemtn marks. Subsequent allignemts can be achieved by alligning the allignemnt marks in the xy plane. \n",
        "In this project the **Karl-Suss MA6** mask aligner was used. \n",
        "\n",
        "\n",
        "#### Exposure \n",
        "\n",
        "Once the substrate is alligned, it is necessary to expose the substrate to UV radiation to imprint the pattern on the photoresist. The exposure can be done in **proximity** or in **contact** mode. Contact mode presents the best resolution. Contact mode hower incrases the risk of damaging the mask, making it less used in production. \n",
        "The UV is produced with a mercury lamp. The lamp radiates the sample uniformly through the mask. The light spectrum emmited by the mercury lamp has an emission spectra resonant to that of the photoresit that absorsbes it. The exposed photoresist's chemical properties change marking a difference between the exposed and unexposed photoresit. Since the photoresit is sensitive to light, the light used in the room needs to be filtered. In CEMOP clean room yellow light is used. \n",
        "\n",
        "\n",
        "\n",
        "#### Post Exposure Baking\n",
        "\n",
        "\n",
        "#### Development \n",
        "\n",
        "Developper is used to removed the exposed (positive) photoresit or unexposed (negative) photoresit photoresist. The exposed sample is dipped into the developper and hte basin is moved from side to side until all the exposed photoresist is removed. The sample is then washed in water to remmoved the developper. The sample now has a layer of patterned photoresit. \n",
        "\n",
        "\n",
        "#### Etching \n",
        "\n",
        "Now that the sample has been lithographycally patterned, the exposed material needs to be removed. Etching can be divided into two classes: \n",
        "\n",
        "* Wet etching: solid + liquid = soluble products\n",
        "\n",
        "* Plasma or Dry etching: solid + gaseous etchng = volatile products. \n",
        "\n",
        "\n",
        "\n",
        "##### Wet etching\n",
        "Wet etching uses highly selective chemicals to removed the exposed material. The chemicals don't attack the photoresis. Wet etching removes the exposed material in all directions. This means that when it is in contact with the material below the photoresist, it will etch it. This process is call Isotropic Etching. The main advantage of wet etching is the low prices. \n",
        "\n",
        "\n",
        "##### Dry etching \n",
        "\n",
        "In dry etching plasma or etchant gases remove the substrate material. This is accomplish by 3 processes:  physical dry etching,  chemical dry etching and reactive ion etching (RIE).\n",
        "\n",
        "* Phisical dry etching: the kinetic energy of the incoming ions is used to physically knock off the atoms on the substrate. This process is highly anisotropic. \n",
        "\n",
        "* Chemical dry etching is similar to wet etching, a chemical reaction removes atoms from the substrate. This process is isotropic. \n",
        "\n",
        "* Reactive ion etching (RIE) is a combination of physical and chemical. Plasma is used to ionize reactive gases. The ions are then accelerated towards the surcface. Etching occurs by both chemical reaction and kinetic energy transfer. RIE offers high selectivity and good anisotropy. \n",
        "\n",
        "Dry etching offers many advantages. RIE is both selective and anisotropic, removed the undercutting problem. RIE also offers high control of Z depth etching (nm precision). \n",
        "\n",
        "In this work the **TRION PHANTOM III RIE** gas was used to dry etched. For all Gate-dielectirc-sourcedrain SF6 gas was used. Since the gas would react with both the Gate and the dielectric, when etcthing the dielectric one had to be very careful not to overetch and attack the Mo of the Gate. \n",
        " \n",
        "\n",
        "(insert thing about error.)\n",
        "\n",
        "\n",
        "#### Sputtering deposition\n",
        "\n",
        "the two sputtering deposition methods are physical vapor deposition (PVD) and chemical vapor deposition (CVD). \n",
        "\n",
        "\n",
        "* physical vapor deposition: in vacuum, particles are ejeted from a material and accelerated towards the target. \n"
      ]
    },
    {
      "cell_type": "markdown",
      "metadata": {
        "colab_type": "text",
        "id": "FuF3zXWAdwhf"
      },
      "source": [
        "### fabricating steps \n",
        "\n",
        "N-channels film film transitors were fabricated at the CEMOP and CENIMAT laboratories in FCT university in Lisbon. \n",
        "\n",
        "The devices are W/L= 320/20 staggered bottom gate structure. \n",
        "\n",
        "\n",
        "### Preparing the substrate \n",
        "A 10*10cm^2 Corning glass substrate was cut into smaller 3*3cm^2 squares using a Glass Cutter. \n",
        "\n",
        "The samples were then placed in a container and filled with acetone. The container was placed into an **ultrasonic bath** for 10 min at room temperature. The samples were then transferred to a second container and filled with alcohol and placed in **utrasonic bath** for 10 min. The samples were then dried with Nitrogen and heated at 110°C for 10 min. \n",
        "\n",
        "\n",
        "\n",
        "### Source drain depositon \n",
        "\n",
        "\n",
        "\n"
      ]
    },
    {
      "cell_type": "markdown",
      "metadata": {
        "id": "ppKW8EINV4Og",
        "colab_type": "text"
      },
      "source": [
        "#Results and discussion "
      ]
    }
  ]
}